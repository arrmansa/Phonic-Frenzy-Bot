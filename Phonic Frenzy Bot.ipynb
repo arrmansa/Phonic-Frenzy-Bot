{
 "cells": [
  {
   "cell_type": "code",
   "execution_count": null,
   "id": "b55a68d2",
   "metadata": {},
   "outputs": [],
   "source": [
    "from selenium import webdriver\n",
    "from selenium.webdriver.common.keys import Keys\n",
    "import time"
   ]
  },
  {
   "cell_type": "code",
   "execution_count": null,
   "id": "a5de6dde",
   "metadata": {},
   "outputs": [],
   "source": [
    "from nltk.corpus import words\n",
    "main_wordlist = words.words()"
   ]
  },
  {
   "cell_type": "code",
   "execution_count": null,
   "id": "3f7c5f23",
   "metadata": {},
   "outputs": [],
   "source": [
    "path = r\"/Users/arrmansa/Python_code/Auto/chromedriver\"\n",
    "browser = webdriver.Chrome(path)\n",
    "browser.get('http://vxn.games')"
   ]
  },
  {
   "cell_type": "markdown",
   "id": "7c33f3d5",
   "metadata": {},
   "source": [
    "# Run cell to login"
   ]
  },
  {
   "cell_type": "code",
   "execution_count": null,
   "id": "be7543bc",
   "metadata": {},
   "outputs": [],
   "source": [
    "from selenium.webdriver.common.action_chains import ActionChains\n",
    "player_name = \"BOT\"\n",
    "room_code = \"ABCD\"\n",
    "actions = ActionChains(browser)\n",
    "actions.send_keys(Keys.TAB)\n",
    "actions.send_keys(player_name)\n",
    "actions.send_keys(Keys.TAB)\n",
    "actions.send_keys(room_code)\n",
    "actions.send_keys(Keys.ENTER)\n",
    "actions.perform()"
   ]
  },
  {
   "cell_type": "markdown",
   "id": "1bfdec34",
   "metadata": {},
   "source": [
    "# Run cell when round countdown starts"
   ]
  },
  {
   "cell_type": "code",
   "execution_count": null,
   "id": "bb7541dc",
   "metadata": {},
   "outputs": [],
   "source": [
    "#Wait fot phonic to be displayed\n",
    "while True:\n",
    "    try:\n",
    "        phonic_display = browser.find_element_by_xpath('//div[@class=\"phonic\"]')\n",
    "        break\n",
    "    except webdriver.remote.errorhandler.NoSuchElementException:\n",
    "        pass\n",
    "#Get phonic\n",
    "phonic = phonic_display.get_attribute('innerHTML')\n",
    "#Make sub_wordlist\n",
    "sub_wordlist = list(word for word in main_wordlist if phonic in word)\n",
    "#Get input box\n",
    "input_box = browser.find_element_by_xpath('//input')\n",
    "#Input all words in sub_wordlist until exception\n",
    "for word in sub_wordlist:\n",
    "    input_box.send_keys(word)\n",
    "    input_box.send_keys(Keys.ENTER)\n",
    "    input_box.send_keys(Keys.SHIFT, Keys.ARROW_UP)\n",
    "    input_box.send_keys(Keys.DELETE)"
   ]
  }
 ],
 "metadata": {
  "kernelspec": {
   "display_name": "Python 3",
   "language": "python",
   "name": "python3"
  },
  "language_info": {
   "codemirror_mode": {
    "name": "ipython",
    "version": 3
   },
   "file_extension": ".py",
   "mimetype": "text/x-python",
   "name": "python",
   "nbconvert_exporter": "python",
   "pygments_lexer": "ipython3",
   "version": "3.9.6"
  }
 },
 "nbformat": 4,
 "nbformat_minor": 5
}
